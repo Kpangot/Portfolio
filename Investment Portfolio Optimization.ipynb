{
 "cells": [
  {
   "cell_type": "markdown",
   "id": "6eca7f09",
   "metadata": {},
   "source": [
    "# Investment Portfolio Optimization by Sonan Obin "
   ]
  },
  {
   "cell_type": "markdown",
   "id": "e153c8ec",
   "metadata": {},
   "source": [
    "#### Importing the libraries "
   ]
  },
  {
   "cell_type": "code",
   "execution_count": 68,
   "id": "d07a2531",
   "metadata": {},
   "outputs": [],
   "source": [
    "import yfinance as yf\n",
    "import pandas as pd\n",
    "import matplotlib.pyplot as plt\n",
    "from datetime import datetime, timedelta\n",
    "import numpy as np\n",
    "from scipy.optimize import minimize"
   ]
  },
  {
   "cell_type": "markdown",
   "id": "bca3553b",
   "metadata": {},
   "source": [
    "#### Importing our tickers "
   ]
  },
  {
   "cell_type": "code",
   "execution_count": 3,
   "id": "45483e22",
   "metadata": {},
   "outputs": [],
   "source": [
    "tickers = ['VT', 'BNDW', 'GLOF', 'ACWV', 'RSP', 'PDBC', 'GLDM', 'FREL', 'SCHP', 'BIL']"
   ]
  },
  {
   "cell_type": "markdown",
   "id": "8c667eab",
   "metadata": {},
   "source": [
    "#### Setting our time frame"
   ]
  },
  {
   "cell_type": "code",
   "execution_count": 7,
   "id": "98510753",
   "metadata": {},
   "outputs": [],
   "source": [
    "end_date = datetime.today()\n",
    "start_date = '2018-01-01'"
   ]
  },
  {
   "cell_type": "markdown",
   "id": "31b91b38",
   "metadata": {},
   "source": [
    "#### Storing our adjusted close prices in a new DataFrame"
   ]
  },
  {
   "cell_type": "code",
   "execution_count": 13,
   "id": "e91c7768",
   "metadata": {},
   "outputs": [
    {
     "name": "stdout",
     "output_type": "stream",
     "text": [
      "[*********************100%***********************]  1 of 1 completed\n",
      "[*********************100%***********************]  1 of 1 completed\n",
      "[*********************100%***********************]  1 of 1 completed\n",
      "[*********************100%***********************]  1 of 1 completed\n",
      "[*********************100%***********************]  1 of 1 completed\n",
      "[*********************100%***********************]  1 of 1 completed\n",
      "[*********************100%***********************]  1 of 1 completed\n",
      "[*********************100%***********************]  1 of 1 completed\n",
      "[*********************100%***********************]  1 of 1 completed\n",
      "[*********************100%***********************]  1 of 1 completed\n"
     ]
    }
   ],
   "source": [
    "adj_close_df = pd.DataFrame()\n",
    "\n",
    "for ticker in tickers:\n",
    "    data = yf.download(ticker, start=start_date, end=end_date)\n",
    "    adj_close_df[ticker] = data['Adj Close']"
   ]
  },
  {
   "cell_type": "markdown",
   "id": "c82c7000",
   "metadata": {},
   "source": [
    "#### Displaying the DataFrame "
   ]
  },
  {
   "cell_type": "code",
   "execution_count": 14,
   "id": "8c20ff81",
   "metadata": {},
   "outputs": [
    {
     "name": "stdout",
     "output_type": "stream",
     "text": [
      "                   VT       BNDW       GLOF        ACWV         RSP  \\\n",
      "Date                                                                  \n",
      "2018-01-02  66.983360        NaN  27.727699   75.797966   92.492188   \n",
      "2018-01-03  67.439369        NaN  28.007168   75.995323   92.964752   \n",
      "2018-01-04  67.841766        NaN  28.081755   76.327255   93.282814   \n",
      "2018-01-05  68.235207        NaN  28.452883   76.596397   93.728088   \n",
      "2018-01-08  68.306740        NaN  28.504103   76.641251   94.037071   \n",
      "...               ...        ...        ...         ...         ...   \n",
      "2023-05-01  93.290001  68.529999  34.116001   99.669998  145.009995   \n",
      "2023-05-02  92.239998  69.120003  33.748001   99.129997  142.839996   \n",
      "2023-05-03  91.919998  69.199997  33.581001   99.050003  142.009995   \n",
      "2023-05-04  91.599998  69.220001  33.439999   99.070000  140.660004   \n",
      "2023-05-05  93.160004  68.970001  33.994701  100.000000  143.029999   \n",
      "\n",
      "                 PDBC       GLDM       FREL       SCHP        BIL  \n",
      "Date                                                               \n",
      "2018-01-02   9.820311        NaN  20.307144  46.537968  85.410728  \n",
      "2018-01-03   9.876267        NaN  20.274109  46.580051  85.429382  \n",
      "2018-01-04   9.881864        NaN  19.952038  46.596893  85.438744  \n",
      "2018-01-05   9.842694        NaN  19.960295  46.580051  85.438744  \n",
      "2018-01-08   9.837098        NaN  20.092426  46.529552  85.448090  \n",
      "...               ...        ...        ...        ...        ...  \n",
      "2023-05-01  14.040000  39.299999  24.780001  52.970001  91.430000  \n",
      "2023-05-02  13.700000  40.070000  24.379999  53.360001  91.410004  \n",
      "2023-05-03  13.500000  40.389999  24.270000  53.599998  91.419998  \n",
      "2023-05-04  13.560000  40.669998  24.469999  53.599998  91.449997  \n",
      "2023-05-05  13.870000  40.049999  24.879999  53.500000  91.470001  \n",
      "\n",
      "[1345 rows x 10 columns]\n"
     ]
    }
   ],
   "source": [
    "print(adj_close_df)"
   ]
  },
  {
   "cell_type": "markdown",
   "id": "c9fdcfc9",
   "metadata": {},
   "source": [
    "#### Calculating the lognormal returns for each ticker "
   ]
  },
  {
   "cell_type": "code",
   "execution_count": 16,
   "id": "3c08f142",
   "metadata": {},
   "outputs": [],
   "source": [
    "log_returns = np.log(adj_close_df / adj_close_df.shift(1))"
   ]
  },
  {
   "cell_type": "markdown",
   "id": "ff09b46f",
   "metadata": {},
   "source": [
    "#### Dropping null values from the returns calculation"
   ]
  },
  {
   "cell_type": "code",
   "execution_count": 45,
   "id": "72bb26bd",
   "metadata": {},
   "outputs": [],
   "source": [
    "log_returns = log_returns.dropna()"
   ]
  },
  {
   "cell_type": "markdown",
   "id": "e12fb5ba",
   "metadata": {},
   "source": [
    "#### Calculating the covariance matrix using annualized stock returns"
   ]
  },
  {
   "cell_type": "code",
   "execution_count": 19,
   "id": "deebaeff",
   "metadata": {},
   "outputs": [
    {
     "name": "stdout",
     "output_type": "stream",
     "text": [
      "                VT      BNDW          GLOF      ACWV       RSP      PDBC  \\\n",
      "VT    4.492226e-02  0.001951  4.322826e-02  0.030551  0.047268  0.016774   \n",
      "BNDW  1.951486e-03  0.002677  1.700447e-03  0.002005  0.001655  0.000036   \n",
      "GLOF  4.322826e-02  0.001700  4.333190e-02  0.029568  0.045940  0.016464   \n",
      "ACWV  3.055100e-02  0.002005  2.956843e-02  0.024415  0.032996  0.009844   \n",
      "RSP   4.726842e-02  0.001655  4.594013e-02  0.032996  0.054313  0.018318   \n",
      "PDBC  1.677431e-02  0.000036  1.646407e-02  0.009844  0.018318  0.041634   \n",
      "GLDM  3.982705e-03  0.003013  4.265432e-03  0.004842  0.002102  0.007063   \n",
      "FREL  4.418878e-02  0.003388  4.190196e-02  0.034244  0.051347  0.014822   \n",
      "SCHP  1.189232e-03  0.002459  1.059176e-03  0.001070  0.000694  0.002667   \n",
      "BIL  -4.137506e-07  0.000006 -2.577794e-07  0.000006 -0.000006 -0.000026   \n",
      "\n",
      "          GLDM      FREL          SCHP           BIL  \n",
      "VT    0.003983  0.044189  1.189232e-03 -4.137506e-07  \n",
      "BNDW  0.003013  0.003388  2.459126e-03  5.630081e-06  \n",
      "GLOF  0.004265  0.041902  1.059176e-03 -2.577794e-07  \n",
      "ACWV  0.004842  0.034244  1.069606e-03  5.920111e-06  \n",
      "RSP   0.002102  0.051347  6.937376e-04 -6.059258e-06  \n",
      "PDBC  0.007063  0.014822  2.667226e-03 -2.646023e-05  \n",
      "GLDM  0.022396  0.005028  4.406116e-03  1.142061e-05  \n",
      "FREL  0.005028  0.066953  2.325905e-03 -5.124121e-06  \n",
      "SCHP  0.004406  0.002326  4.594339e-03  7.368778e-07  \n",
      "BIL   0.000011 -0.000005  7.368778e-07  4.618239e-06  \n"
     ]
    }
   ],
   "source": [
    "cov_matrix = log_returns.cov()*252\n",
    "print(cov_matrix)"
   ]
  },
  {
   "cell_type": "markdown",
   "id": "cff8d932",
   "metadata": {},
   "source": [
    "#### The output above shows the correlation between each of the assets "
   ]
  },
  {
   "cell_type": "markdown",
   "id": "c292c416",
   "metadata": {},
   "source": [
    "#### Calculating the portfolio performance metrics "
   ]
  },
  {
   "cell_type": "code",
   "execution_count": 26,
   "id": "e24b914a",
   "metadata": {
    "scrolled": true
   },
   "outputs": [],
   "source": [
    "# Standard deviation\n",
    "\n",
    "def standard_deviation (weights, cov_matrix): \n",
    "    variance = weights.T @cov_matrix @weights\n",
    "    return np.sqrt(variance)"
   ]
  },
  {
   "cell_type": "code",
   "execution_count": 27,
   "id": "515f6a45",
   "metadata": {},
   "outputs": [],
   "source": [
    "# Expected return\n",
    "\n",
    "def expected_return (weights, log_returns): \n",
    "    return np.sum(log_returns.mean()*weights)*252"
   ]
  },
  {
   "cell_type": "code",
   "execution_count": 64,
   "id": "fb276c00",
   "metadata": {},
   "outputs": [],
   "source": [
    "# Sharpe Ratio \n",
    "\n",
    "def sharpe_ratio (weights, log_returns, cov_matrix, risk_free_rate):\n",
    "    return(expected_return (weights, log_returns)-risk_free_rate) / standard_deviation (weights, cov_matrix)"
   ]
  },
  {
   "cell_type": "markdown",
   "id": "24d023f1",
   "metadata": {},
   "source": [
    "#### Setting the risk-free rate"
   ]
  },
  {
   "cell_type": "code",
   "execution_count": 62,
   "id": "6b8288f2",
   "metadata": {},
   "outputs": [
    {
     "name": "stdout",
     "output_type": "stream",
     "text": [
      "0.0346\n"
     ]
    }
   ],
   "source": [
    "from fredapi import Fred \n",
    "\n",
    "#Import FRED api_key \n",
    "\n",
    "fred = Fred(api_key='d017a954d53548a26bdfae9542aeb954')\n",
    "ten_year_treasury_rate = fred.get_series_latest_release('GS10') / 100\n",
    "\n",
    "#Set the risk-free rate \n",
    "risk_free_rate = ten_year_treasury_rate.iloc[-1]\n",
    "print(risk_free_rate)"
   ]
  },
  {
   "cell_type": "markdown",
   "id": "3a5bf024",
   "metadata": {},
   "source": [
    "#### Defining the function to minimize (negative sharpe ratio)"
   ]
  },
  {
   "cell_type": "code",
   "execution_count": 61,
   "id": "3b06f2e9",
   "metadata": {},
   "outputs": [],
   "source": [
    "def neg_sharpe_ratio(weights, log_returns, cov_matrix, risk_free_rate):\n",
    "    return -sharpe_ratio(weights, log_returns, cov_matrix, risk_free_rate)"
   ]
  },
  {
   "cell_type": "markdown",
   "id": "58249e5a",
   "metadata": {},
   "source": [
    "#### Setting the constraints and bounds "
   ]
  },
  {
   "cell_type": "code",
   "execution_count": 60,
   "id": "6fcd0df9",
   "metadata": {},
   "outputs": [],
   "source": [
    "constraints = {'type': 'eq', 'fun': lambda weights: np.sum(weights) - 1}\n",
    "bounds = [(0, 0.5) for _ in range(len(tickers))]"
   ]
  },
  {
   "cell_type": "markdown",
   "id": "214c0058",
   "metadata": {},
   "source": [
    "#### Setting the initial weights"
   ]
  },
  {
   "cell_type": "code",
   "execution_count": 54,
   "id": "9f9c8084",
   "metadata": {},
   "outputs": [
    {
     "name": "stdout",
     "output_type": "stream",
     "text": [
      "[0.1 0.1 0.1 0.1 0.1 0.1 0.1 0.1 0.1 0.1]\n"
     ]
    }
   ],
   "source": [
    "initial_weights = np.array([1/len(tickers)]*len(tickers))\n",
    "print(initial_weights)"
   ]
  },
  {
   "cell_type": "markdown",
   "id": "4b039a44",
   "metadata": {},
   "source": [
    "#### Optimizing the weights to maximize Sharpe Ratio "
   ]
  },
  {
   "cell_type": "code",
   "execution_count": 65,
   "id": "66643511",
   "metadata": {},
   "outputs": [],
   "source": [
    "optimized_results = minimize(neg_sharpe_ratio, initial_weights, args=(log_returns, cov_matrix, risk_free_rate), method='SLSQP', constraints=constraints, bounds=bounds)"
   ]
  },
  {
   "cell_type": "markdown",
   "id": "ecef7111",
   "metadata": {},
   "source": [
    "#### Getting the optimal weights"
   ]
  },
  {
   "cell_type": "code",
   "execution_count": 66,
   "id": "6d12f05e",
   "metadata": {},
   "outputs": [],
   "source": [
    "optimal_weights = optimized_results.x"
   ]
  },
  {
   "cell_type": "markdown",
   "id": "6071e5f4",
   "metadata": {},
   "source": [
    "#### Displaying the analytics of the optimal portfolio "
   ]
  },
  {
   "cell_type": "code",
   "execution_count": 67,
   "id": "f1b4b7b1",
   "metadata": {},
   "outputs": [
    {
     "name": "stdout",
     "output_type": "stream",
     "text": [
      "optimal_weights:\n",
      "VT: 0.000000\n",
      "BNDW: 0.000000\n",
      "GLOF: 0.000000\n",
      "ACWV: 0.000000\n",
      "RSP: 0.225828\n",
      "PDBC: 0.116050\n",
      "GLDM: 0.500000\n",
      "FREL: 0.000000\n",
      "SCHP: 0.158122\n",
      "BIL: 0.000000\n",
      "\n",
      "Expected Annual Return: 0.086349\n",
      "Expected Volatility: 0.110196\n",
      "Sharpe Ratio: 0.469614\n"
     ]
    }
   ],
   "source": [
    "print('optimal_weights:')\n",
    "for ticker, weight in zip(tickers, optimal_weights):\n",
    "    print(f\"{ticker}: {weight:4f}\")\n",
    "    \n",
    "print()\n",
    "    \n",
    "optimal_portfolio_return = expected_return(optimal_weights, log_returns)\n",
    "optimal_portfolio_volatility = standard_deviation(optimal_weights, cov_matrix)\n",
    "optimal_sharpe_ratio = sharpe_ratio(optimal_weights, log_returns, cov_matrix, risk_free_rate)\n",
    "\n",
    "print(f\"Expected Annual Return: {optimal_portfolio_return:4f}\")\n",
    "print(f\"Expected Volatility: {optimal_portfolio_volatility:4f}\")\n",
    "print(f\"Sharpe Ratio: {optimal_sharpe_ratio:4f}\")"
   ]
  },
  {
   "cell_type": "markdown",
   "id": "4ea208ee",
   "metadata": {},
   "source": [
    "#### Plotting the optimal portfolio"
   ]
  },
  {
   "cell_type": "code",
   "execution_count": 69,
   "id": "fdf9828a",
   "metadata": {},
   "outputs": [
    {
     "data": {
      "image/png": "[encoded data removed]",
      "text/plain": [
       "<Figure size 1000x600 with 1 Axes>"
      ]
     },
     "metadata": {},
     "output_type": "display_data"
    }
   ],
   "source": [
    "plt.figure(figsize = (10,6))\n",
    "plt.bar(tickers, optimal_weights)\n",
    "\n",
    "plt.xlabel('Assets')\n",
    "plt.ylabel('Optimal Weights')\n",
    "plt.title('Optimal Portfolio Weights')\n",
    "\n",
    "plt.show()"
   ]
  }
 ],
 "metadata": {
  "kernelspec": {
   "display_name": "testenv",
   "language": "python",
   "name": "testenv"
  },
  "language_info": {
   "codemirror_mode": {
    "name": "ipython",
    "version": 3
   },
   "file_extension": ".py",
   "mimetype": "text/x-python",
   "name": "python",
   "nbconvert_exporter": "python",
   "pygments_lexer": "ipython3",
   "version": "3.9.13"
  }
 },
 "nbformat": 4,
 "nbformat_minor": 5
}
