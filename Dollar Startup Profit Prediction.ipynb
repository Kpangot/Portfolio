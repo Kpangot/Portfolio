{
 "cells": [
  {
   "cell_type": "markdown",
   "id": "f3affc63",
   "metadata": {},
   "source": [
    "# Profit Prediction with Linear Regression by Sonan Obin"
   ]
  },
  {
   "cell_type": "markdown",
   "id": "b8e58de8",
   "metadata": {},
   "source": [
    "#### Importing the libraries: As with every Jupyter Notebook project, we start by importing the libraries"
   ]
  },
  {
   "cell_type": "code",
   "execution_count": 1,
   "id": "720870b7",
   "metadata": {},
   "outputs": [],
   "source": [
    "import numpy as np\n",
    "import pandas as pd\n",
    "import matplotlib.pyplot as plt\n",
    "import seaborn as sns "
   ]
  },
  {
   "cell_type": "markdown",
   "id": "5c5d7bcc",
   "metadata": {},
   "source": [
    "#### Displaying the data: The second step is to import and display the data from the dataset"
   ]
  },
  {
   "cell_type": "code",
   "execution_count": 2,
   "id": "6e1c9726",
   "metadata": {
    "scrolled": true
   },
   "outputs": [
    {
     "data": {
      "text/html": [
       "<div>\n",
       "<style scoped>\n",
       "    .dataframe tbody tr th:only-of-type {\n",
       "        vertical-align: middle;\n",
       "    }\n",
       "\n",
       "    .dataframe tbody tr th {\n",
       "        vertical-align: top;\n",
       "    }\n",
       "\n",
       "    .dataframe thead th {\n",
       "        text-align: right;\n",
       "    }\n",
       "</style>\n",
       "<table border=\"1\" class=\"dataframe\">\n",
       "  <thead>\n",
       "    <tr style=\"text-align: right;\">\n",
       "      <th></th>\n",
       "      <th>R&amp;D Spend</th>\n",
       "      <th>Administration</th>\n",
       "      <th>Marketing Spend</th>\n",
       "      <th>State</th>\n",
       "      <th>Profit</th>\n",
       "    </tr>\n",
       "  </thead>\n",
       "  <tbody>\n",
       "    <tr>\n",
       "      <th>0</th>\n",
       "      <td>189345.67</td>\n",
       "      <td>120562.34</td>\n",
       "      <td>480235.89</td>\n",
       "      <td>New York</td>\n",
       "      <td>213478.12</td>\n",
       "    </tr>\n",
       "    <tr>\n",
       "      <th>1</th>\n",
       "      <td>176298.45</td>\n",
       "      <td>145062.76</td>\n",
       "      <td>437691.34</td>\n",
       "      <td>California</td>\n",
       "      <td>209356.78</td>\n",
       "    </tr>\n",
       "    <tr>\n",
       "      <th>2</th>\n",
       "      <td>163714.87</td>\n",
       "      <td>97874.45</td>\n",
       "      <td>400562.23</td>\n",
       "      <td>Florida</td>\n",
       "      <td>201234.56</td>\n",
       "    </tr>\n",
       "    <tr>\n",
       "      <th>3</th>\n",
       "      <td>153235.89</td>\n",
       "      <td>116298.34</td>\n",
       "      <td>382149.67</td>\n",
       "      <td>New York</td>\n",
       "      <td>191345.78</td>\n",
       "    </tr>\n",
       "    <tr>\n",
       "      <th>4</th>\n",
       "      <td>149762.34</td>\n",
       "      <td>91463.67</td>\n",
       "      <td>354892.56</td>\n",
       "      <td>Florida</td>\n",
       "      <td>180456.89</td>\n",
       "    </tr>\n",
       "  </tbody>\n",
       "</table>\n",
       "</div>"
      ],
      "text/plain": [
       "   R&D Spend  Administration  Marketing Spend       State     Profit\n",
       "0  189345.67       120562.34        480235.89    New York  213478.12\n",
       "1  176298.45       145062.76        437691.34  California  209356.78\n",
       "2  163714.87        97874.45        400562.23     Florida  201234.56\n",
       "3  153235.89       116298.34        382149.67    New York  191345.78\n",
       "4  149762.34        91463.67        354892.56     Florida  180456.89"
      ]
     },
     "execution_count": 2,
     "metadata": {},
     "output_type": "execute_result"
    }
   ],
   "source": [
    "data = pd.read_csv(\"dollarstartup.csv\")\n",
    "data.head()"
   ]
  },
  {
   "cell_type": "markdown",
   "id": "dbdec4d6",
   "metadata": {},
   "source": [
    "#### Checking for null values: Now, we want to know if the data contains any missing values"
   ]
  },
  {
   "cell_type": "code",
   "execution_count": 3,
   "id": "7b5a65d9",
   "metadata": {},
   "outputs": [
    {
     "data": {
      "text/plain": [
       "R&D Spend          0\n",
       "Administration     0\n",
       "Marketing Spend    0\n",
       "State              0\n",
       "Profit             0\n",
       "dtype: int64"
      ]
     },
     "execution_count": 3,
     "metadata": {},
     "output_type": "execute_result"
    }
   ],
   "source": [
    "data.isna().sum()"
   ]
  },
  {
   "cell_type": "markdown",
   "id": "4b4bf2a1",
   "metadata": {},
   "source": [
    "#### Note: As we can see, the dataset does not contain any missing values, which means that the data is consistent"
   ]
  },
  {
   "cell_type": "markdown",
   "id": "ba009df4",
   "metadata": {},
   "source": [
    "#### Looking at the summary statistics of the data"
   ]
  },
  {
   "cell_type": "code",
   "execution_count": 4,
   "id": "7e928897",
   "metadata": {},
   "outputs": [
    {
     "data": {
      "text/html": [
       "<div>\n",
       "<style scoped>\n",
       "    .dataframe tbody tr th:only-of-type {\n",
       "        vertical-align: middle;\n",
       "    }\n",
       "\n",
       "    .dataframe tbody tr th {\n",
       "        vertical-align: top;\n",
       "    }\n",
       "\n",
       "    .dataframe thead th {\n",
       "        text-align: right;\n",
       "    }\n",
       "</style>\n",
       "<table border=\"1\" class=\"dataframe\">\n",
       "  <thead>\n",
       "    <tr style=\"text-align: right;\">\n",
       "      <th></th>\n",
       "      <th>R&amp;D Spend</th>\n",
       "      <th>Administration</th>\n",
       "      <th>Marketing Spend</th>\n",
       "      <th>Profit</th>\n",
       "    </tr>\n",
       "  </thead>\n",
       "  <tbody>\n",
       "    <tr>\n",
       "      <th>count</th>\n",
       "      <td>50.000000</td>\n",
       "      <td>50.000000</td>\n",
       "      <td>50.000000</td>\n",
       "      <td>50.000000</td>\n",
       "    </tr>\n",
       "    <tr>\n",
       "      <th>mean</th>\n",
       "      <td>113573.927600</td>\n",
       "      <td>128952.746400</td>\n",
       "      <td>284404.889000</td>\n",
       "      <td>161793.377800</td>\n",
       "    </tr>\n",
       "    <tr>\n",
       "      <th>std</th>\n",
       "      <td>32777.253738</td>\n",
       "      <td>20958.901857</td>\n",
       "      <td>106143.200231</td>\n",
       "      <td>39947.105079</td>\n",
       "    </tr>\n",
       "    <tr>\n",
       "      <th>min</th>\n",
       "      <td>60567.890000</td>\n",
       "      <td>91463.670000</td>\n",
       "      <td>0.000000</td>\n",
       "      <td>98123.450000</td>\n",
       "    </tr>\n",
       "    <tr>\n",
       "      <th>25%</th>\n",
       "      <td>80988.170000</td>\n",
       "      <td>113651.502500</td>\n",
       "      <td>271595.560000</td>\n",
       "      <td>126004.007500</td>\n",
       "    </tr>\n",
       "    <tr>\n",
       "      <th>50%</th>\n",
       "      <td>122563.590000</td>\n",
       "      <td>126012.285000</td>\n",
       "      <td>300523.880000</td>\n",
       "      <td>170217.225000</td>\n",
       "    </tr>\n",
       "    <tr>\n",
       "      <th>75%</th>\n",
       "      <td>138045.587500</td>\n",
       "      <td>146166.340000</td>\n",
       "      <td>348865.122500</td>\n",
       "      <td>197824.985000</td>\n",
       "    </tr>\n",
       "    <tr>\n",
       "      <th>max</th>\n",
       "      <td>189345.670000</td>\n",
       "      <td>189234.560000</td>\n",
       "      <td>480235.890000</td>\n",
       "      <td>236082.050000</td>\n",
       "    </tr>\n",
       "  </tbody>\n",
       "</table>\n",
       "</div>"
      ],
      "text/plain": [
       "           R&D Spend  Administration  Marketing Spend         Profit\n",
       "count      50.000000       50.000000        50.000000      50.000000\n",
       "mean   113573.927600   128952.746400    284404.889000  161793.377800\n",
       "std     32777.253738    20958.901857    106143.200231   39947.105079\n",
       "min     60567.890000    91463.670000         0.000000   98123.450000\n",
       "25%     80988.170000   113651.502500    271595.560000  126004.007500\n",
       "50%    122563.590000   126012.285000    300523.880000  170217.225000\n",
       "75%    138045.587500   146166.340000    348865.122500  197824.985000\n",
       "max    189345.670000   189234.560000    480235.890000  236082.050000"
      ]
     },
     "execution_count": 4,
     "metadata": {},
     "output_type": "execute_result"
    }
   ],
   "source": [
    "data.describe()"
   ]
  },
  {
   "cell_type": "markdown",
   "id": "0e127712",
   "metadata": {},
   "source": [
    "#### Looking at the correlation"
   ]
  },
  {
   "cell_type": "code",
   "execution_count": 5,
   "id": "ecdedfda",
   "metadata": {},
   "outputs": [
    {
     "data": {
      "image/png": "[encoded data removed]",
      "text/plain": [
       "<Figure size 640x480 with 2 Axes>"
      ]
     },
     "metadata": {},
     "output_type": "display_data"
    }
   ],
   "source": [
    "sns.heatmap(data.corr(), annot=True)\n",
    "plt.show()"
   ]
  },
  {
   "cell_type": "code",
   "execution_count": 6,
   "id": "48e58635",
   "metadata": {},
   "outputs": [
    {
     "data": {
      "text/plain": [
       "<AxesSubplot:xlabel='R&D Spend', ylabel='Profit'>"
      ]
     },
     "execution_count": 6,
     "metadata": {},
     "output_type": "execute_result"
    },
    {
     "data": {
      "image/png": "[encoded data removed]",
      "text/plain": [
       "<Figure size 640x480 with 1 Axes>"
      ]
     },
     "metadata": {},
     "output_type": "display_data"
    }
   ],
   "source": [
    "sns.barplot(x= 'R&D Spend', y = 'Profit', data = data, color = 'blue', edgecolor ='black')"
   ]
  },
  {
   "cell_type": "markdown",
   "id": "965ec4d3",
   "metadata": {},
   "source": [
    "#### Linear Regression Model: We'll use a  linear regression model to train the profit prediction model"
   ]
  },
  {
   "cell_type": "code",
   "execution_count": 28,
   "id": "445c977f",
   "metadata": {},
   "outputs": [],
   "source": [
    "# Preparing the data to fit the algorithm\n",
    "\n",
    "x = data[[\"R&D Spend\", \"Administration\", \"Marketing Spend\"]]\n",
    "y = data[\"Profit\"]\n",
    "\n",
    "x = x.to_numpy()\n",
    "y = y.to_numpy()\n",
    "y = y.reshape(-1,1)\n",
    "\n",
    "from sklearn.model_selection import train_test_split\n",
    "xtrain, xtest, ytrain, ytest = train_test_split(x,y, test_size=0.2, random_state = 42)"
   ]
  },
  {
   "cell_type": "code",
   "execution_count": 29,
   "id": "5f5661d9",
   "metadata": {},
   "outputs": [
    {
     "name": "stdout",
     "output_type": "stream",
     "text": [
      "   Predicted Profit\n",
      "0     140281.187732\n",
      "1     175833.277521\n",
      "2      95117.979522\n",
      "3     163037.610873\n",
      "4     150823.423262\n"
     ]
    }
   ],
   "source": [
    "# Training a linear regression model on the data and having a look at the predicted values \n",
    "\n",
    "from sklearn.linear_model import LinearRegression\n",
    "model = LinearRegression()\n",
    "model.fit(xtrain, ytrain)\n",
    "ypred = model.predict(xtest)\n",
    "data = pd.DataFrame(data={\"Predicted Profit\": ypred.flatten()})\n",
    "print(data.head())"
   ]
  },
  {
   "cell_type": "markdown",
   "id": "115220f8",
   "metadata": {},
   "source": [
    "#### Conclusion: Above are the profit values that our model predicted. "
   ]
  }
 ],
 "metadata": {
  "kernelspec": {
   "display_name": "testenv",
   "language": "python",
   "name": "testenv"
  },
  "language_info": {
   "codemirror_mode": {
    "name": "ipython",
    "version": 3
   },
   "file_extension": ".py",
   "mimetype": "text/x-python",
   "name": "python",
   "nbconvert_exporter": "python",
   "pygments_lexer": "ipython3",
   "version": "3.9.13"
  }
 },
 "nbformat": 4,
 "nbformat_minor": 5
}
